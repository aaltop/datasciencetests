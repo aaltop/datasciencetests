{
 "cells": [
  {
   "cell_type": "code",
   "execution_count": null,
   "id": "2bb03195",
   "metadata": {},
   "outputs": [],
   "source": [
    "import pandas as pd\n",
    "\n",
    "from pathlib import Path\n",
    "\n",
    "from src.data_handling import (\n",
    "    process_training_data,\n",
    "    process_test_data,\n",
    "    test_data_to_numeric,\n",
    ")\n",
    "\n",
    "data_path = Path() / \"data\"\n",
    "\n"
   ]
  },
  {
   "cell_type": "code",
   "execution_count": null,
   "id": "7b08120a",
   "metadata": {},
   "outputs": [],
   "source": [
    "\n",
    "\n",
    "# see https://www.kaggle.com/datasets/lakshmi25npathi/imdb-dataset-of-50k-movie-reviews\n",
    "data = pd.read_csv(data_path / \"imdb.csv\")\n",
    "\n",
    "train_data_path = data_path / \"train_context_counts.csv\"\n",
    "raw_train_data = data.iloc[:25000]\n",
    "# process_training_data(raw_train_data.review, raw_train_data.sentiment, train_data_path)\n",
    "train_data = pd.read_csv(train_data_path)\n",
    "print(\"Train data done\")\n",
    "\n",
    "train_data"
   ]
  },
  {
   "cell_type": "code",
   "execution_count": null,
   "id": "094c947e",
   "metadata": {},
   "outputs": [],
   "source": [
    "\n",
    "\n",
    "test_data_path = data_path / \"test_data.csv\"\n",
    "raw_test_data = data.iloc[25000:]\n",
    "# process_test_data(\n",
    "#     raw_test_data.review, raw_test_data.sentiment, test_data_path\n",
    "# )\n",
    "print(\"Test data done\")\n",
    "\n",
    "test_data = pd.read_csv(test_data_path)\n",
    "test_data"
   ]
  },
  {
   "cell_type": "code",
   "execution_count": null,
   "id": "8f1e4108",
   "metadata": {},
   "outputs": [],
   "source": [
    "\n",
    "\n",
    "numeric_test_data_path = data_path / \"numeric_test_data.csv\"\n",
    "# test_data_to_numeric(\n",
    "#     test_data.context,\n",
    "#     test_data.words,\n",
    "#     # probably don't want to take all words, just take some of the most usual\n",
    "#     train_data.word[:100],\n",
    "#     numeric_test_data_path,\n",
    "# )\n",
    "print(\"Numeric test data done\")\n",
    "\n",
    "numeric_test_data = pd.read_csv(numeric_test_data_path, skiprows=1)\n",
    "numeric_test_data"
   ]
  }
 ],
 "metadata": {
  "kernelspec": {
   "display_name": ".venv",
   "language": "python",
   "name": "python3"
  },
  "language_info": {
   "codemirror_mode": {
    "name": "ipython",
    "version": 3
   },
   "file_extension": ".py",
   "mimetype": "text/x-python",
   "name": "python",
   "nbconvert_exporter": "python",
   "pygments_lexer": "ipython3",
   "version": "3.13.3"
  }
 },
 "nbformat": 4,
 "nbformat_minor": 5
}
