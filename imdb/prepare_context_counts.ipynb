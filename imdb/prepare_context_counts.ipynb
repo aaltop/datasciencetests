{
 "cells": [
  {
   "cell_type": "code",
   "execution_count": null,
   "id": "2bb03195",
   "metadata": {},
   "outputs": [],
   "source": [
    "%load_ext autoreload\n",
    "\n",
    "%autoreload 2\n",
    "\n",
    "import pandas as pd\n",
    "\n",
    "from pathlib import Path\n",
    "\n",
    "from src.data_handling import (\n",
    "    process_training_data,\n",
    "    process_test_data,\n",
    "    test_data_to_numeric_full,\n",
    "    SparseNumericTestDataIO\n",
    ")\n",
    "\n",
    "data_path = Path() / \"data\"\n",
    "\n",
    "# see https://www.kaggle.com/datasets/lakshmi25npathi/imdb-dataset-of-50k-movie-reviews\n",
    "data = pd.read_csv(data_path / \"imdb.csv\")\n",
    "\n",
    "test_train_ratio = 0.8\n",
    "train_length = int(len(data)*0.8)\n",
    "test_length = len(data)-train_length\n",
    "\n",
    "print(f\"{train_length=}\")\n",
    "print(f\"{test_length=}\")"
   ]
  },
  {
   "cell_type": "code",
   "execution_count": null,
   "id": "7b08120a",
   "metadata": {},
   "outputs": [],
   "source": [
    "train_data_path = data_path / \"train_context_counts.csv\"\n",
    "raw_train_data = data.iloc[:train_length]\n",
    "\n",
    "compute = False\n",
    "if compute:\n",
    "    process_training_data(raw_train_data.review, raw_train_data.sentiment, train_data_path)\n",
    "train_data = pd.read_csv(train_data_path)\n",
    "print(\"Train data done\")\n",
    "\n",
    "train_data"
   ]
  },
  {
   "cell_type": "code",
   "execution_count": null,
   "id": "094c947e",
   "metadata": {},
   "outputs": [],
   "source": [
    "\n",
    "\n",
    "test_data_path = data_path / \"test_data.csv\"\n",
    "raw_test_data = data.iloc[train_length:]\n",
    "compute = False\n",
    "if compute:\n",
    "    process_test_data(\n",
    "        raw_test_data.review, raw_test_data.sentiment, test_data_path\n",
    "    )\n",
    "print(\"Test data done\")\n",
    "\n",
    "test_data = pd.read_csv(test_data_path)\n",
    "test_data"
   ]
  },
  {
   "cell_type": "code",
   "execution_count": null,
   "id": "8f1e4108",
   "metadata": {},
   "outputs": [],
   "source": [
    "numeric_test_data_path = data_path / \"numeric_test_data.parquet\"\n",
    "compute = False\n",
    "if compute:\n",
    "    test_data_to_numeric_full(\n",
    "        test_data.context,\n",
    "        test_data.words,\n",
    "        # probably don't want to take all words, just take some of the most usual\n",
    "        train_data.word[:100],\n",
    "        numeric_test_data_path,\n",
    "    )\n",
    "print(\"Numeric test data done\")\n",
    "\n",
    "with open(numeric_test_data_path, \"rb\") as f:\n",
    "    numeric_test_data = pd.read_parquet(path=f)\n",
    "numeric_test_data"
   ]
  },
  {
   "cell_type": "code",
   "execution_count": null,
   "id": "5a7dc219",
   "metadata": {},
   "outputs": [],
   "source": [
    "\n",
    "sparse_numeric_test_data_path = data_path / \"sparse_numeric_test_data.dat\"\n",
    "compute = True\n",
    "if compute:\n",
    "    handler = SparseNumericTestDataIO(\n",
    "        test_data.context,\n",
    "        test_data.words,\n",
    "        train_data.word[:5000],\n",
    "    )\n",
    "    handler.write(sparse_numeric_test_data_path)\n",
    "\n",
    "sntd = SparseNumericTestDataIO.read(sparse_numeric_test_data_path)\n",
    "sntd.indices_to_bool(sntd.context_and_indices[0][1])"
   ]
  }
 ],
 "metadata": {
  "kernelspec": {
   "display_name": ".venv",
   "language": "python",
   "name": "python3"
  },
  "language_info": {
   "codemirror_mode": {
    "name": "ipython",
    "version": 3
   },
   "file_extension": ".py",
   "mimetype": "text/x-python",
   "name": "python",
   "nbconvert_exporter": "python",
   "pygments_lexer": "ipython3",
   "version": "3.13.3"
  }
 },
 "nbformat": 4,
 "nbformat_minor": 5
}
