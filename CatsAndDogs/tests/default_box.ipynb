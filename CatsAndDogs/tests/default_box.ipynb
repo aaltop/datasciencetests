{
 "cells": [
  {
   "cell_type": "code",
   "execution_count": null,
   "metadata": {},
   "outputs": [],
   "source": [
    "%load_ext autoreload\n",
    "%autoreload\n",
    "\n",
    "import torch\n",
    "import torchvision.io as tvi\n",
    "import matplotlib.pyplot as plt\n",
    "\n",
    "from pathlib import Path\n",
    "import sys\n",
    "\n",
    "# allows importing from the src folder\n",
    "root_path = Path().absolute().parents[0]\n",
    "if root_path not in sys.path:\n",
    "    sys.path.append(root_path.as_posix())\n",
    "\n",
    "import src.default_box as db\n"
   ]
  },
  {
   "cell_type": "code",
   "execution_count": null,
   "metadata": {},
   "outputs": [],
   "source": [
    "import torchvision.transforms.v2.functional as F\n",
    "\n",
    "from src.utils.plotting import draw_bounding_box\n",
    "\n",
    "\n",
    "data_path = root_path / \"data\" / \"dataset\"\n",
    "img_path = data_path / \"cat.0.jpg\"\n",
    "\n",
    "img = tvi.decode_image(img_path, mode = \"RGB\")\n",
    "height, width = img.shape[1:]\n",
    "print(f\"{img.shape=}\")\n",
    "\n",
    "centers = db.default_box_centers(width, height)\n",
    "ratios = [1, 2, 3, 1/2, 1/3]\n",
    "boxes = db.default_boxes(0.5, centers, ratios = ratios)\n",
    "\n",
    "# pick from the center\n",
    "bboxes = boxes[width*height//2 + width//2,:,:]\n",
    "whwh = torch.tensor([width,height]*2)\n",
    "print(f\"{whwh=}\")\n",
    "\n",
    "\n",
    "fig, ax = plt.subplots(1,1)\n",
    "\n",
    "for i, bbox in enumerate(bboxes):\n",
    "    # scale the bounding boxes to be like the image dimensions\n",
    "    scaled_bbox = whwh*bbox\n",
    "    print(f\"{scaled_bbox=}\")\n",
    "    tl_x, tl_y = scaled_bbox[0:2]\n",
    "    draw_bounding_box(ax, *(whwh*bbox))\n",
    "    ax.annotate(f\"ratio w/h: {ratios[i]:.2f}\", xy = (tl_x, tl_y - 2), color=\"cyan\")\n",
    "\n",
    "img = F.to_pil_image(img)\n",
    "print(img)\n",
    "\n",
    "ax.imshow(img)"
   ]
  },
  {
   "cell_type": "code",
   "execution_count": null,
   "metadata": {},
   "outputs": [],
   "source": []
  }
 ],
 "metadata": {
  "kernelspec": {
   "display_name": ".venv",
   "language": "python",
   "name": "python3"
  },
  "language_info": {
   "codemirror_mode": {
    "name": "ipython",
    "version": 3
   },
   "file_extension": ".py",
   "mimetype": "text/x-python",
   "name": "python",
   "nbconvert_exporter": "python",
   "pygments_lexer": "ipython3",
   "version": "3.12.5"
  }
 },
 "nbformat": 4,
 "nbformat_minor": 2
}
