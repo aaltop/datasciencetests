{
 "cells": [
  {
   "cell_type": "code",
   "execution_count": null,
   "metadata": {},
   "outputs": [],
   "source": [
    "%load_ext autoreload\n",
    "%autoreload\n",
    "\n",
    "import torch\n",
    "\n",
    "from pathlib import Path\n",
    "import sys\n",
    "\n",
    "# allows importing from the src folder\n",
    "root_path = Path().absolute().parents[0]\n",
    "if root_path not in sys.path:\n",
    "    sys.path.append(root_path.as_posix())\n",
    "\n",
    "import src.utils.math as math_utils"
   ]
  },
  {
   "cell_type": "markdown",
   "metadata": {},
   "source": [
    "# Test finding corners, calculating area"
   ]
  },
  {
   "cell_type": "code",
   "execution_count": null,
   "metadata": {},
   "outputs": [],
   "source": [
    "bb = torch.tensor([0,0,4,3])\n",
    "\n",
    "corners = math_utils.bounding_box_corners(bb)\n",
    "assert torch.allclose(\n",
    "    corners,\n",
    "    torch.tensor([\n",
    "        [0,0],\n",
    "        [4,0],\n",
    "        [4,3],\n",
    "        [0,3]\n",
    "    ])\n",
    ")\n",
    "print(corners[0,:,:])\n",
    "\n",
    "area = math_utils.bounding_box_area(bb).item()\n",
    "\n",
    "assert area == 12\n",
    "\n",
    "bbs = torch.concat([bb,bb])\n",
    "areas = math_utils.bounding_box_area(bbs)\n",
    "\n",
    "assert len(areas.shape) == 1\n",
    "assert torch.allclose(\n",
    "    areas - torch.tensor([12,12], dtype=float),\n",
    "    torch.zeros(2, dtype=float)\n",
    ")"
   ]
  },
  {
   "cell_type": "code",
   "execution_count": null,
   "metadata": {},
   "outputs": [],
   "source": [
    "\n",
    "\n",
    "bbs = torch.rand([5,4])\n",
    "\n",
    "corners = math_utils.bounding_box_corners(bbs)\n",
    "print(corners.shape)\n",
    "\n",
    "print(f\"{bbs=}\")\n",
    "print(corners)\n"
   ]
  },
  {
   "cell_type": "markdown",
   "metadata": {},
   "source": [
    "# Test corner inclusion function"
   ]
  },
  {
   "cell_type": "code",
   "execution_count": null,
   "metadata": {},
   "outputs": [],
   "source": [
    "\n",
    "bbs1 = torch.tensor([\n",
    "    [0,0,2,2],\n",
    "    [1,1,3,3]\n",
    "], dtype=torch.float32)\n",
    "\n",
    "result = math_utils.included_corners(bbs1, bbs1)\n",
    "# box's corners are within itself, and for the above,\n",
    "# first box has it bottom right corner inside the second,\n",
    "# second has top left corner inside first\n",
    "assert [result[i].sum().item() for i in range(4)] == [3,2,3,2]\n",
    "assert result[2,0,1]\n",
    "\n",
    "# top left corner inside both of bbs1's\n",
    "bbs2 = torch.tensor([\n",
    "    [1.5,1.5,4,4]\n",
    "])\n",
    "\n",
    "print(f\"{bbs1.shape=}\")\n",
    "print(f\"{bbs2.shape=}\")\n",
    "\n",
    "result = math_utils.included_corners(bbs1, bbs2)\n",
    "\n",
    "print(result)\n",
    "print(result.shape)\n",
    "assert torch.allclose(\n",
    "    torch.tensor(result.shape),\n",
    "    torch.tensor([4,1,2])\n",
    ")\n",
    "assert [result[i].sum().item() for i in range(4)] == [2,0,0,0]\n",
    "\n",
    "# NOTE: reverse of the above (switch bbs1 and bbs2)\n",
    "result = math_utils.included_corners(bbs2, bbs1)\n",
    "print(result)\n",
    "print(result.shape)\n",
    "assert torch.allclose(\n",
    "    torch.tensor(result.shape),\n",
    "    torch.tensor([4,2,1])\n",
    ")\n",
    "\n",
    "\n",
    "\n",
    "# top left inside first, bottom right inside second\n",
    "bbs2 = torch.concat(\n",
    "    [\n",
    "        bbs2.flatten(),\n",
    "        torch.tensor([0.25,0.25,2.5,2.5])\n",
    "    ]\n",
    ").reshape([2,4])\n",
    "\n",
    "result = math_utils.included_corners(bbs1, bbs2)\n",
    "print(result)\n",
    "\n",
    "assert [result[i].sum().item() for i in range(4)] == [2+1,0,1,0]\n",
    "assert result[2,1,1]\n",
    "\n",
    "\n",
    "tensr = torch.tensor([0,0,1,1]).reshape([1,4])\n",
    "assert torch.all(math_utils.included_corners(tensr, tensr))"
   ]
  },
  {
   "cell_type": "markdown",
   "metadata": {},
   "source": [
    "# Test intersection area functions"
   ]
  },
  {
   "cell_type": "code",
   "execution_count": null,
   "metadata": {},
   "outputs": [],
   "source": [
    "bbs1 = torch.tensor([\n",
    "    [10,10,12,12]\n",
    "], dtype=torch.float32).reshape([-1,4])\n",
    "\n",
    "bbs2 = torch.tensor([\n",
    "    [10,10,12,12], # exact overlap, area = 4\n",
    "    [11,11,13,13], # top left corner in, area = 1\n",
    "    [11.5,9.5,12.5,10.5], # bottom left corner in, area = 0.25\n",
    "    [9,10.5,11.5,11.5], # right side in, area = 1.5\n",
    "    [11,11,11.5,11.5], # completely inside, area = 0.25\n",
    "    [9,9,13,13], # completely contains, area = 4\n",
    "    [1,1,2,2], # no overlap, area = 0\n",
    "])\n",
    "\n",
    "\n",
    "one_to_two = math_utils.intersection(bbs1, bbs2)\n",
    "assert torch.allclose(one_to_two.flatten(), torch.tensor([4,1,0.25,1.5,0.25,0,0]))\n",
    "\n",
    "two_to_one = math_utils.intersection(bbs2, bbs1)\n",
    "assert torch.allclose(two_to_one.flatten(), torch.tensor([4,1,0.25,0,0,4,0]))\n",
    "\n",
    "symmetric = math_utils.symmetric_intersection(bbs1, bbs2)\n",
    "assert torch.allclose(symmetric.flatten(), torch.tensor([4,1,0.25,1.5,0.25,4,0]))"
   ]
  },
  {
   "cell_type": "markdown",
   "metadata": {},
   "source": [
    "# Test intersection-over-union"
   ]
  },
  {
   "cell_type": "code",
   "execution_count": null,
   "metadata": {},
   "outputs": [],
   "source": [
    "\n",
    "\n",
    "bbs1 = torch.tensor([\n",
    "    [10,10,12,12],\n",
    "    [11,11,12,12]\n",
    "], dtype=torch.float32)\n",
    "\n",
    "bbs2 = torch.tensor([\n",
    "    [10,10,12,12],\n",
    "    [11,11,13.5,13.5],\n",
    "    [0,0,1,1]\n",
    "])\n",
    "\n",
    "expected = torch.tensor([\n",
    "    [4/(4+4-4), 1/(4+1-1)],\n",
    "    [1/(4+2.5**2-1), 1/(1+2.5**2-1)],\n",
    "    [0,0]\n",
    "])\n",
    "\n",
    "actual = math_utils.intersection_over_union(bbs1,bbs2)\n",
    "assert torch.allclose(expected, actual)\n",
    "\n",
    "assert torch.allclose(actual, math_utils.intersection_over_union(bbs2,bbs1).T)"
   ]
  },
  {
   "cell_type": "code",
   "execution_count": null,
   "metadata": {},
   "outputs": [],
   "source": []
  }
 ],
 "metadata": {
  "kernelspec": {
   "display_name": ".venv",
   "language": "python",
   "name": "python3"
  },
  "language_info": {
   "codemirror_mode": {
    "name": "ipython",
    "version": 3
   },
   "file_extension": ".py",
   "mimetype": "text/x-python",
   "name": "python",
   "nbconvert_exporter": "python",
   "pygments_lexer": "ipython3",
   "version": "3.12.5"
  }
 },
 "nbformat": 4,
 "nbformat_minor": 2
}
