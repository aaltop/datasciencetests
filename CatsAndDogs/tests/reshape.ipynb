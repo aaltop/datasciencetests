{
 "cells": [
  {
   "cell_type": "code",
   "execution_count": null,
   "metadata": {},
   "outputs": [],
   "source": [
    "%load_ext autoreload\n",
    "%autoreload\n",
    "\n",
    "import torch\n",
    "\n",
    "from pathlib import Path\n",
    "import sys\n",
    "\n",
    "# allows importing from the src folder\n",
    "root_path = Path().absolute().parents[0]\n",
    "if root_path not in sys.path:\n",
    "    sys.path.append(root_path.as_posix())\n",
    "\n",
    "import src.utils.reshape as reshape"
   ]
  },
  {
   "cell_type": "code",
   "execution_count": null,
   "metadata": {},
   "outputs": [],
   "source": [
    "\n",
    "\n",
    "# two channels, one item per channel\n",
    "# 2-2 image\n",
    "dummy = torch.tensor([\n",
    "    [[1,2],[3,4]],\n",
    "    [[6,7],[8,9]]\n",
    "])\n",
    "print(dummy)\n",
    "\n",
    "expected = torch.tensor([\n",
    "    [1,6],\n",
    "    [2,7],\n",
    "    [3,8],\n",
    "    [4,9]\n",
    "])\n",
    "\n",
    "actual = reshape.items_per_pixel(dummy, 2)\n",
    "assert torch.all(expected == actual)\n",
    "\n",
    "print(actual)\n"
   ]
  },
  {
   "cell_type": "code",
   "execution_count": null,
   "metadata": {},
   "outputs": [],
   "source": []
  }
 ],
 "metadata": {
  "kernelspec": {
   "display_name": ".venv",
   "language": "python",
   "name": "python3"
  },
  "language_info": {
   "codemirror_mode": {
    "name": "ipython",
    "version": 3
   },
   "file_extension": ".py",
   "mimetype": "text/x-python",
   "name": "python",
   "nbconvert_exporter": "python",
   "pygments_lexer": "ipython3",
   "version": "3.12.5"
  }
 },
 "nbformat": 4,
 "nbformat_minor": 2
}
