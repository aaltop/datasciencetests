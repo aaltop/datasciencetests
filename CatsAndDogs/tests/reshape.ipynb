{
 "cells": [
  {
   "cell_type": "code",
   "execution_count": 27,
   "metadata": {},
   "outputs": [
    {
     "name": "stdout",
     "output_type": "stream",
     "text": [
      "The autoreload extension is already loaded. To reload it, use:\n",
      "  %reload_ext autoreload\n"
     ]
    }
   ],
   "source": [
    "%load_ext autoreload\n",
    "%autoreload\n",
    "\n",
    "import torch\n",
    "\n",
    "from pathlib import Path\n",
    "import sys\n",
    "\n",
    "# allows importing from the src folder\n",
    "root_path = Path().absolute().parents[0]\n",
    "if root_path not in sys.path:\n",
    "    sys.path.append(root_path.as_posix())\n",
    "\n",
    "import src.utils.reshape as reshape"
   ]
  },
  {
   "cell_type": "code",
   "execution_count": 28,
   "metadata": {},
   "outputs": [
    {
     "name": "stdout",
     "output_type": "stream",
     "text": [
      "tensor([[[[1, 2],\n",
      "          [3, 4]],\n",
      "\n",
      "         [[6, 7],\n",
      "          [8, 9]]],\n",
      "\n",
      "\n",
      "        [[[1, 2],\n",
      "          [3, 4]],\n",
      "\n",
      "         [[6, 7],\n",
      "          [8, 9]]]])\n",
      "tensor([[[1, 6],\n",
      "         [2, 7],\n",
      "         [3, 8],\n",
      "         [4, 9]],\n",
      "\n",
      "        [[1, 6],\n",
      "         [2, 7],\n",
      "         [3, 8],\n",
      "         [4, 9]]])\n"
     ]
    }
   ],
   "source": [
    "\n",
    "\n",
    "# two channels, two channels per item\n",
    "# 2-2 image\n",
    "# also do as double to test batch functionality\n",
    "dummy = torch.tensor([[\n",
    "    [[1,2],[3,4]],\n",
    "    [[6,7],[8,9]]\n",
    "]]*2)\n",
    "print(dummy)\n",
    "\n",
    "expected = torch.tensor([[\n",
    "    [1,6],\n",
    "    [2,7],\n",
    "    [3,8],\n",
    "    [4,9]\n",
    "]]*2)\n",
    "\n",
    "actual = reshape.items_per_pixel(dummy, 2)\n",
    "assert torch.all(expected == actual)\n",
    "\n",
    "print(actual)\n"
   ]
  },
  {
   "cell_type": "code",
   "execution_count": null,
   "metadata": {},
   "outputs": [],
   "source": []
  }
 ],
 "metadata": {
  "kernelspec": {
   "display_name": ".venv",
   "language": "python",
   "name": "python3"
  },
  "language_info": {
   "codemirror_mode": {
    "name": "ipython",
    "version": 3
   },
   "file_extension": ".py",
   "mimetype": "text/x-python",
   "name": "python",
   "nbconvert_exporter": "python",
   "pygments_lexer": "ipython3",
   "version": "3.12.5"
  }
 },
 "nbformat": 4,
 "nbformat_minor": 2
}
